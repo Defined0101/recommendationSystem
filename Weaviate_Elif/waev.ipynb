{
 "cells": [
  {
   "cell_type": "code",
   "execution_count": null,
   "metadata": {},
   "outputs": [],
   "source": [
    "import weaviate\n",
    "from weaviate.classes.config import Configure, Property, DataType\n",
    "import numpy as np\n",
    "import pyarrow.parquet as pq"
   ]
  },
  {
   "cell_type": "code",
   "execution_count": null,
   "metadata": {},
   "outputs": [
    {
     "name": "stdout",
     "output_type": "stream",
     "text": [
      "   ID                                               Name  \\\n",
      "0   0                     Lentil, Apple, and Turkey Wrap   \n",
      "1   1         Boudin Blanc Terrine with Red Onion Confit   \n",
      "2   4                           Spinach Noodle Casserole   \n",
      "3   5                                      The Best Blts   \n",
      "4   6  Ham and Spring Vegetable Salad with Shallot Vi...   \n",
      "\n",
      "                                        Instructions  \\\n",
      "0  1. Place the stock, lentils, celery, carrot, t...   \n",
      "1  Combine first 9 ingredients in heavy  saucepan...   \n",
      "2  Preheat oven to 350°F. Lightly grease 8x8x2-in...   \n",
      "3  Mix basil, mayonnaise and butter in processor ...   \n",
      "4  Cook potatoes and carrots in  pot of boiling s...   \n",
      "\n",
      "                                         Ingredients   Category       Label  \n",
      "0  [vegetable or chicken stock, brown lentils, fr...    garlish  vegetarian  \n",
      "1  [whipping cream, onions, salt, bay leaves, clo...  main dish        meat  \n",
      "2  [spinach souffle, extra-wide egg noodles, crea...  main dish  vegetarian  \n",
      "3  [basil leaves, mayonaisse, butter, bacon strip...  main dish        meat  \n",
      "4  [red-skinned potatoes, baby carrots, asparagus...  main dish        meat  \n"
     ]
    }
   ],
   "source": [
    "# Load the Parquet file\n",
    "parquet_path = \"filtered_recipes.parquet\"  # Update with your file path\n",
    "table = pq.read_table(parquet_path)\n",
    "\n",
    "# Convert to Pandas DataFrame\n",
    "recipes_df = table.to_pandas()\n",
    "\n",
    "# Show sample data\n",
    "#print(recipes_df.head())"
   ]
  },
  {
   "cell_type": "code",
   "execution_count": 3,
   "metadata": {},
   "outputs": [
    {
     "name": "stdout",
     "output_type": "stream",
     "text": [
      "IDs shape: (535505,)\n",
      "Embeddings shape: (535505, 4096)\n"
     ]
    }
   ],
   "source": [
    "# Load the NPZ file\n",
    "npz_path = \"recipe_data_gpu0.npz\"  # Update with your file path\n",
    "data = np.load(npz_path, allow_pickle=True)\n",
    "\n",
    "# Extract IDs and embeddings\n",
    "ids = data[\"ids\"]\n",
    "embeddings = data[\"embeddings\"]\n",
    "\n",
    "# Check shape\n",
    "print(f\"IDs shape: {ids.shape}\")\n",
    "print(f\"Embeddings shape: {embeddings.shape}\")"
   ]
  },
  {
   "cell_type": "code",
   "execution_count": 41,
   "metadata": {},
   "outputs": [],
   "source": [
    "# Connect to the local Weaviate instance\n",
    "client = weaviate.connect_to_local()\n",
    "\n",
    "# Define the collection schema correctly\n",
    "class_name = \"Recipe\""
   ]
  },
  {
   "cell_type": "code",
   "execution_count": 43,
   "metadata": {},
   "outputs": [],
   "source": [
    "from weaviate.classes.config import Configure, VectorDistances\n",
    "if not client.collections.exists(class_name):\n",
    "    client.collections.create(\n",
    "        name=class_name,\n",
    "        description=\"A collection of recipes with ingredients and instructions\",\n",
    "        vectorizer_config=Configure.Vectorizer.none(),\n",
    "        vector_index_config=Configure.VectorIndex.hnsw(\n",
    "            distance_metric=VectorDistances.L2\n",
    "        ),\n",
    "        properties=[\n",
    "            Property(name=\"name\", data_type=DataType.TEXT, description=\"Recipe Name\"),\n",
    "            Property(name=\"ingredients\", data_type=DataType.TEXT, description=\"List of Ingredients\"),\n",
    "            Property(name=\"instructions\", data_type=DataType.TEXT, description=\"Cooking Instructions\"),\n",
    "            Property(name=\"label\", data_type=DataType.TEXT, description=\"Recipe Label\"),\n",
    "            Property(name=\"category\", data_type=DataType.TEXT, description=\"Recipe Category\")\n",
    "        ]\n",
    "    )"
   ]
  },
  {
   "cell_type": "code",
   "execution_count": 44,
   "metadata": {},
   "outputs": [
    {
     "name": "stdout",
     "output_type": "stream",
     "text": [
      "✅ Processed batch 1 of 1072\n",
      "✅ Processed batch 2 of 1072\n",
      "✅ Processed batch 3 of 1072\n",
      "✅ Processed batch 4 of 1072\n",
      "✅ Processed batch 5 of 1072\n",
      "✅ Processed batch 6 of 1072\n",
      "✅ Processed batch 7 of 1072\n",
      "✅ Processed batch 8 of 1072\n",
      "✅ Processed batch 9 of 1072\n",
      "✅ Processed batch 10 of 1072\n",
      "✅ Processed batch 11 of 1072\n",
      "✅ Processed batch 12 of 1072\n",
      "✅ Processed batch 13 of 1072\n",
      "✅ Processed batch 14 of 1072\n",
      "✅ Processed batch 15 of 1072\n",
      "🎉 All recipes uploaded successfully!\n"
     ]
    }
   ],
   "source": [
    "# Process in batches\n",
    "batch_size = 500  # Adjust based on memory capacity\n",
    "num_batches = len(ids) // batch_size + 1\n",
    "\n",
    "collection = client.collections.get(\"Recipe\")\n",
    "\n",
    "for batch_idx in range(15):\n",
    "    start_idx = batch_idx * batch_size\n",
    "    end_idx = min((batch_idx + 1) * batch_size, len(ids))\n",
    "\n",
    "    # Process only a batch at a time\n",
    "    batch_ids = ids[start_idx:end_idx]\n",
    "    batch_embeddings = embeddings[start_idx:end_idx]\n",
    "\n",
    "    for i, recipe_id in enumerate(batch_ids):\n",
    "        recipe_data = recipes_df[recipes_df[\"ID\"] == recipe_id]\n",
    "\n",
    "        if not recipe_data.empty:\n",
    "            row = recipe_data.iloc[0]  # Get the first match\n",
    "\n",
    "            # ✅ Convert Ingredients to String if List\n",
    "            ingredient_list = row[\"Ingredients\"]\n",
    "            if isinstance(ingredient_list, list):\n",
    "                ingredient_list = \", \".join(map(str, ingredient_list))  # Ensure all items are strings\n",
    "\n",
    "            # ✅ Ensure all fields are converted to native Python types\n",
    "            properties = {\n",
    "                \"name\": str(row[\"Name\"]),\n",
    "                \"ingredients\": str(ingredient_list),\n",
    "                \"instructions\": str(row[\"Instructions\"]),\n",
    "                \"label\": str(row[\"Label\"]),\n",
    "                \"category\": str(row[\"Category\"])\n",
    "            }\n",
    "\n",
    "            # ✅ Convert embeddings explicitly to a list\n",
    "            vector_embedding = batch_embeddings[i].tolist()\n",
    "\n",
    "            collection.data.insert(\n",
    "                properties=properties,\n",
    "                vector=vector_embedding  # Convert NumPy array to Python list\n",
    "            )\n",
    "\n",
    "    print(f\"✅ Processed batch {batch_idx + 1} of {num_batches}\")\n",
    "\n",
    "print(\"🎉 All recipes uploaded successfully!\")"
   ]
  },
  {
   "cell_type": "code",
   "execution_count": 45,
   "metadata": {},
   "outputs": [
    {
     "name": "stdout",
     "output_type": "stream",
     "text": [
      "Sample IDs from dataset: [ 0  4  6  9 11 14 16 18 21 24]\n"
     ]
    }
   ],
   "source": [
    "print(\"Sample IDs from dataset:\", ids[:10])"
   ]
  },
  {
   "cell_type": "code",
   "execution_count": 46,
   "metadata": {},
   "outputs": [
    {
     "name": "stdout",
     "output_type": "stream",
     "text": [
      "Index of Recipe ID 4: [1]\n"
     ]
    }
   ],
   "source": [
    "# ✅ Find the index of recipe ID = 1\n",
    "recipe_index = np.where(ids == 4)[0]\n",
    "print(f\"Index of Recipe ID 4: {recipe_index}\")\n",
    "\n",
    "# ✅ Get the corresponding embedding (convert to list for Weaviate)\n",
    "if len(recipe_index) > 0:\n",
    "    query_embedding = embeddings[recipe_index[0]].tolist()\n",
    "else:\n",
    "    print(\"⚠️ Recipe with ID 4 not found.\")\n",
    "    query_embedding = None"
   ]
  },
  {
   "cell_type": "code",
   "execution_count": 47,
   "metadata": {},
   "outputs": [
    {
     "name": "stdout",
     "output_type": "stream",
     "text": [
      "\n",
      " Top 5 Similar Recipes to Recipe ID 4:\n",
      "\n",
      "🔹Match 1\n",
      "Name: Spinach Noodle Casserole\n",
      "Category: main dish\n",
      "Label: vegetarian\n",
      "Instructions: Preheat oven to 350°F. Lightly grease 8x8x2-inch glass baking dish. Blend spinach, noodles, sour cream, pesto sauce and nutmeg in  bowl. Spoon mixture into prepared dish. Sprinkle cheese over. Bake until set, about 45 minutes. Let stand 10 minutes....\n",
      "Ingredients: ['spi...\n",
      "Distance: -1.1920928955078125e-07\n",
      "\n",
      "🔹Match 2\n",
      "Name: Spinach Lasagna\n",
      "Category: main dish\n",
      "Label: meat\n",
      "Instructions: Heat oven to 375°F. In a  sauté pan over  heat, heat oil. Add onions and garlic; toss to coat. Add 1 cup stock; cover and reduce heat; simmer until onions are soft, 20 minutes. Reserve 1/2 cup liquid. Add scallions, oregano, salt and pepper to onion mixture; increase heat to  and cook, stirring, un...\n",
      "Ingredients: ['oli...\n",
      "Distance: 0.18536847829818726\n",
      "\n",
      "🔹Match 3\n",
      "Name: Spinach Soufflé with Shallots and Smoked Gouda Cheese\n",
      "Category: garlish\n",
      "Label: vegetarian\n",
      "Instructions: Preheat oven to 350°F. Butter 11 x 7 x 2-inch glass baking dish. Bring milk to boil in  saucepan. Remove from heat. Melt 4 tablespoons butter in heavy  saucepan over low heat. Add flour; stir 3 minutes. Gradually whisk in warm milk. Increase heat to ; whisk constantly until mixture is thick and smoo...\n",
      "Ingredients: ['mil...\n",
      "Distance: 0.191389799118042\n",
      "\n",
      "🔹Match 4\n",
      "Name: Spinach Gnocchi Gratin\n",
      "Category: garlish\n",
      "Label: vegetarian\n",
      "Instructions: In a  heavy saucepan cook the spinach in the water clinging to the leaves, covered, over moderate heat, stirring once or twice, for 3 to 4 minutes, or until it is wilted, refresh it under cold water, and drain it well in a colander. Squeeze the spinach dry by handfuls and chop it fine. In a heavy sa...\n",
      "Ingredients: ['spi...\n",
      "Distance: 0.19433408975601196\n",
      "\n",
      "🔹Match 5\n",
      "Name: Spinach Soufflé with Roasted Red Pepper Sauce\n",
      "Category: garlish\n",
      "Label: vegetarian\n",
      "Instructions: Preheat oven to 400°F. Butter 9-inch-diameter glass pie dish. Blend creamed spinach, grated Swiss cheese, salt and pepper in  bowl; whisk in egg yolks. Using electric mixer, beat egg whites in  bowl until stiff but not dry; fold into spinach mixture. Gently transfer to prepared dish. Bake soufflé u...\n",
      "Ingredients: ['spi...\n",
      "Distance: 0.19544541835784912\n"
     ]
    }
   ],
   "source": [
    "from weaviate.classes.query import MetadataQuery\n",
    "search_results = collection.query.near_vector(\n",
    "    near_vector=query_embedding,  # Use the retrieved embedding\n",
    "    limit=5,  # Return top 5 similar recipes\n",
    "    return_properties=[\"name\", \"ingredients\", \"instructions\", \"category\", \"label\"],  # ✅ Corrected metadata format\n",
    "    return_metadata=MetadataQuery(distance=True)\n",
    ")\n",
    "\n",
    "# ✅ Display results\n",
    "print(\"\\n Top 5 Similar Recipes to Recipe ID 4:\")\n",
    "for i, recipe in enumerate(search_results.objects):\n",
    "    print(f\"\\n🔹Match {i+1}\")\n",
    "    print(f\"Name: {recipe.properties['name']}\")\n",
    "    print(f\"Category: {recipe.properties['category']}\")\n",
    "    print(f\"Label: {recipe.properties['label']}\")\n",
    "    print(f\"Instructions: {recipe.properties['instructions'][:300]}...\")  # Show first 300 chars\n",
    "    print(f\"Ingredients: {recipe.properties['ingredients'][:5]}...\")  # Show first 5 ingredients\n",
    "    print(f\"Distance: {recipe.metadata.distance}\")\n"
   ]
  },
  {
   "cell_type": "code",
   "execution_count": 48,
   "metadata": {},
   "outputs": [
    {
     "name": "stdout",
     "output_type": "stream",
     "text": [
      "\n",
      " Top 5 Similar Recipes to Recipe ID 0:\n",
      "\n",
      "🔹Match 1\n",
      "Name: Lentil, Apple, and Turkey Wrap\n",
      "Category: garlish\n",
      "Label: vegetarian\n",
      "Instructions: 1. Place the stock, lentils, celery, carrot, thyme, and salt in a  saucepan and bring to a boil. Reduce heat to low and simmer until the lentils are tender, about 30 minutes, depending on the lentils. (If they begin to dry out, add water as needed.) Remove and discard the thyme. Drain and transfer t...\n",
      "Ingredients: ['veg...\n",
      "Distance: 5.960464477539063e-08\n",
      "\n",
      "🔹Match 2\n",
      "Name: Red-Lentil Soup\n",
      "Category: garlish\n",
      "Label: meat\n",
      "Instructions: Cook onion in oil with 1/2 teaspoon salt in a  heavy saucepan over  heat, stirring occasionally, until softened, about 8 minutes. Add garlic, cumin, bay leaf, and thyme and cook, stirring, 1 minute more. Add lentils, broth, water, 1/2 teaspoon salt, and 1/2 teaspoon pepper and simmer, partially cove...\n",
      "Ingredients: ['oni...\n",
      "Distance: 0.23089313507080078\n",
      "\n",
      "🔹Match 3\n",
      "Name: Turkey Wraps with Chipotle Mayonnaise\n",
      "Category: main dish\n",
      "Label: vegetarian\n",
      "Instructions: Combine mayonnaise, cilantro, green onion, chipotle chilies and lime juice in  bowl; stir to blend. Season chipotle mayonnaise with salt. Arrange tortillas on work surface. Spread each with half of mayonnaise; top with turkey and lettuce. Roll up tortillas tightly, enclosing filling. Cut each wrap i...\n",
      "Ingredients: ['may...\n",
      "Distance: 0.23338890075683594\n",
      "\n",
      "🔹Match 4\n",
      "Name: Lentil and Rice Salad\n",
      "Category: garlish\n",
      "Label: pescetarian, vegetarian\n",
      "Instructions: Bring water, 1 tablespoon oil, and salt to a boil in a 2-quart saucepan, then stir in rice. Return to a boil and cover pan. Reduce heat to low and simmer rice until water is absorbed and rice is tender, about 15 minutes. Fluff rice with a fork and let stand, covered, 5 minutes. While rice is simmeri...\n",
      "Ingredients: ['wat...\n",
      "Distance: 0.23871129751205444\n",
      "\n",
      "🔹Match 5\n",
      "Name: Lentil and Vegetable Stew with Kale\n",
      "Category: main dish\n",
      "Label: dairy-free, gluten-free, pescetarian, vegan, vegetarian\n",
      "Instructions: Heat oil in  pot over high heat. Add onion and next 3 ingredients; sprinkle with salt and pepper and sauté until beginning to soften and brown, 10 to 11 minutes. Stir in lentils and herbes de provence. Add broth and kale. Bring to boil, stirring to incorporate kale. Reduce heat to -low, cover with ...\n",
      "Ingredients: ['oli...\n",
      "Distance: 0.2390117645263672\n"
     ]
    }
   ],
   "source": [
    "sample_vector = embeddings[0].tolist()  # Pick the first embedding\n",
    "search_results = collection.query.near_vector(\n",
    "    near_vector=sample_vector,\n",
    "    limit=5,\n",
    "    return_properties=[\"name\", \"ingredients\", \"instructions\", \"category\", \"label\"],\n",
    "    return_metadata=MetadataQuery(distance=True)\n",
    ")\n",
    "\n",
    "# ✅ Display results\n",
    "print(\"\\n Top 5 Similar Recipes to Recipe ID 0:\")\n",
    "for i, recipe in enumerate(search_results.objects):\n",
    "    print(f\"\\n🔹Match {i+1}\")\n",
    "    print(f\"Name: {recipe.properties['name']}\")\n",
    "    print(f\"Category: {recipe.properties['category']}\")\n",
    "    print(f\"Label: {recipe.properties['label']}\")\n",
    "    print(f\"Instructions: {recipe.properties['instructions'][:300]}...\")  # Show first 300 chars\n",
    "    print(f\"Ingredients: {recipe.properties['ingredients'][:5]}...\")  # Show first 5 ingredients\n",
    "    print(f\"Distance: {recipe.metadata.distance}\")"
   ]
  },
  {
   "cell_type": "code",
   "execution_count": null,
   "metadata": {},
   "outputs": [
    {
     "name": "stdout",
     "output_type": "stream",
     "text": [
      "🚮 Collection 'Recipe' deleted successfully\n"
     ]
    }
   ],
   "source": [
    "#client.collections.delete(\"Recipe\")\n",
    "#print(\"🚮 Collection 'Recipe' deleted successfully\")"
   ]
  },
  {
   "cell_type": "code",
   "execution_count": 49,
   "metadata": {},
   "outputs": [],
   "source": [
    "client.close()      "
   ]
  }
 ],
 "metadata": {
  "kernelspec": {
   "display_name": ".venv",
   "language": "python",
   "name": "python3"
  },
  "language_info": {
   "codemirror_mode": {
    "name": "ipython",
    "version": 3
   },
   "file_extension": ".py",
   "mimetype": "text/x-python",
   "name": "python",
   "nbconvert_exporter": "python",
   "pygments_lexer": "ipython3",
   "version": "3.12.0"
  }
 },
 "nbformat": 4,
 "nbformat_minor": 2
}
